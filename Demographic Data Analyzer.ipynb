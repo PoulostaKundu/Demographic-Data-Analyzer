{
 "cells": [
  {
   "cell_type": "code",
   "execution_count": 111,
   "id": "f700a659-b49e-4d72-b4e5-3a3a390f757b",
   "metadata": {},
   "outputs": [],
   "source": [
    "import numpy as np\n",
    "import pandas as pd"
   ]
  },
  {
   "cell_type": "code",
   "execution_count": 112,
   "id": "3e55a203-5104-46da-b38d-d4ed1a0a2ed7",
   "metadata": {},
   "outputs": [
    {
     "data": {
      "text/html": [
       "<div>\n",
       "<style scoped>\n",
       "    .dataframe tbody tr th:only-of-type {\n",
       "        vertical-align: middle;\n",
       "    }\n",
       "\n",
       "    .dataframe tbody tr th {\n",
       "        vertical-align: top;\n",
       "    }\n",
       "\n",
       "    .dataframe thead th {\n",
       "        text-align: right;\n",
       "    }\n",
       "</style>\n",
       "<table border=\"1\" class=\"dataframe\">\n",
       "  <thead>\n",
       "    <tr style=\"text-align: right;\">\n",
       "      <th></th>\n",
       "      <th>age</th>\n",
       "      <th>workclass</th>\n",
       "      <th>fnlwgt</th>\n",
       "      <th>education</th>\n",
       "      <th>education-num</th>\n",
       "      <th>marital-status</th>\n",
       "      <th>occupation</th>\n",
       "      <th>relationship</th>\n",
       "      <th>race</th>\n",
       "      <th>sex</th>\n",
       "      <th>capital-gain</th>\n",
       "      <th>capital-loss</th>\n",
       "      <th>hours-per-week</th>\n",
       "      <th>native-country</th>\n",
       "      <th>salary</th>\n",
       "    </tr>\n",
       "  </thead>\n",
       "  <tbody>\n",
       "    <tr>\n",
       "      <th>0</th>\n",
       "      <td>39</td>\n",
       "      <td>State-gov</td>\n",
       "      <td>77516</td>\n",
       "      <td>Bachelors</td>\n",
       "      <td>13</td>\n",
       "      <td>Never-married</td>\n",
       "      <td>Adm-clerical</td>\n",
       "      <td>Not-in-family</td>\n",
       "      <td>White</td>\n",
       "      <td>Male</td>\n",
       "      <td>2174</td>\n",
       "      <td>0</td>\n",
       "      <td>40</td>\n",
       "      <td>United-States</td>\n",
       "      <td>&lt;=50K</td>\n",
       "    </tr>\n",
       "    <tr>\n",
       "      <th>1</th>\n",
       "      <td>50</td>\n",
       "      <td>Self-emp-not-inc</td>\n",
       "      <td>83311</td>\n",
       "      <td>Bachelors</td>\n",
       "      <td>13</td>\n",
       "      <td>Married-civ-spouse</td>\n",
       "      <td>Exec-managerial</td>\n",
       "      <td>Husband</td>\n",
       "      <td>White</td>\n",
       "      <td>Male</td>\n",
       "      <td>0</td>\n",
       "      <td>0</td>\n",
       "      <td>13</td>\n",
       "      <td>United-States</td>\n",
       "      <td>&lt;=50K</td>\n",
       "    </tr>\n",
       "    <tr>\n",
       "      <th>2</th>\n",
       "      <td>38</td>\n",
       "      <td>Private</td>\n",
       "      <td>215646</td>\n",
       "      <td>HS-grad</td>\n",
       "      <td>9</td>\n",
       "      <td>Divorced</td>\n",
       "      <td>Handlers-cleaners</td>\n",
       "      <td>Not-in-family</td>\n",
       "      <td>White</td>\n",
       "      <td>Male</td>\n",
       "      <td>0</td>\n",
       "      <td>0</td>\n",
       "      <td>40</td>\n",
       "      <td>United-States</td>\n",
       "      <td>&lt;=50K</td>\n",
       "    </tr>\n",
       "    <tr>\n",
       "      <th>3</th>\n",
       "      <td>53</td>\n",
       "      <td>Private</td>\n",
       "      <td>234721</td>\n",
       "      <td>11th</td>\n",
       "      <td>7</td>\n",
       "      <td>Married-civ-spouse</td>\n",
       "      <td>Handlers-cleaners</td>\n",
       "      <td>Husband</td>\n",
       "      <td>Black</td>\n",
       "      <td>Male</td>\n",
       "      <td>0</td>\n",
       "      <td>0</td>\n",
       "      <td>40</td>\n",
       "      <td>United-States</td>\n",
       "      <td>&lt;=50K</td>\n",
       "    </tr>\n",
       "    <tr>\n",
       "      <th>4</th>\n",
       "      <td>28</td>\n",
       "      <td>Private</td>\n",
       "      <td>338409</td>\n",
       "      <td>Bachelors</td>\n",
       "      <td>13</td>\n",
       "      <td>Married-civ-spouse</td>\n",
       "      <td>Prof-specialty</td>\n",
       "      <td>Wife</td>\n",
       "      <td>Black</td>\n",
       "      <td>Female</td>\n",
       "      <td>0</td>\n",
       "      <td>0</td>\n",
       "      <td>40</td>\n",
       "      <td>Cuba</td>\n",
       "      <td>&lt;=50K</td>\n",
       "    </tr>\n",
       "  </tbody>\n",
       "</table>\n",
       "</div>"
      ],
      "text/plain": [
       "   age         workclass  fnlwgt  education  education-num  \\\n",
       "0   39         State-gov   77516  Bachelors             13   \n",
       "1   50  Self-emp-not-inc   83311  Bachelors             13   \n",
       "2   38           Private  215646    HS-grad              9   \n",
       "3   53           Private  234721       11th              7   \n",
       "4   28           Private  338409  Bachelors             13   \n",
       "\n",
       "       marital-status         occupation   relationship   race     sex  \\\n",
       "0       Never-married       Adm-clerical  Not-in-family  White    Male   \n",
       "1  Married-civ-spouse    Exec-managerial        Husband  White    Male   \n",
       "2            Divorced  Handlers-cleaners  Not-in-family  White    Male   \n",
       "3  Married-civ-spouse  Handlers-cleaners        Husband  Black    Male   \n",
       "4  Married-civ-spouse     Prof-specialty           Wife  Black  Female   \n",
       "\n",
       "   capital-gain  capital-loss  hours-per-week native-country salary  \n",
       "0          2174             0              40  United-States  <=50K  \n",
       "1             0             0              13  United-States  <=50K  \n",
       "2             0             0              40  United-States  <=50K  \n",
       "3             0             0              40  United-States  <=50K  \n",
       "4             0             0              40           Cuba  <=50K  "
      ]
     },
     "execution_count": 112,
     "metadata": {},
     "output_type": "execute_result"
    }
   ],
   "source": [
    "df = pd.read_csv(r'Demographic Data Analyzer.csv')\n",
    "df.head()"
   ]
  },
  {
   "cell_type": "markdown",
   "id": "adbcc3e1-64f0-46ac-a39e-6931785f9920",
   "metadata": {},
   "source": [
    "Q.1. How many people of each race are represented in this dataset? This should be a Pandas series with race names as the index labels. (race column)"
   ]
  },
  {
   "cell_type": "code",
   "execution_count": 113,
   "id": "f6e56e0f-f85e-415f-8e40-f9f0841ccd35",
   "metadata": {},
   "outputs": [
    {
     "name": "stdout",
     "output_type": "stream",
     "text": [
      "White                 27816\n",
      "Black                  3124\n",
      "Asian-Pac-Islander     1039\n",
      "Amer-Indian-Eskimo      311\n",
      "Other                   271\n",
      "Name: race, dtype: int64\n"
     ]
    }
   ],
   "source": [
    "race_counts=df[\"race\"].value_counts()\n",
    "print(race_counts)"
   ]
  },
  {
   "cell_type": "markdown",
   "id": "2c8f22f1-c519-4b34-81eb-178a618b471f",
   "metadata": {},
   "source": [
    "Q.2. What is the average age of men?"
   ]
  },
  {
   "cell_type": "code",
   "execution_count": 114,
   "id": "e98740ce-54f2-4541-a027-42c9f5ce55ec",
   "metadata": {},
   "outputs": [
    {
     "name": "stdout",
     "output_type": "stream",
     "text": [
      "average age of men:\n"
     ]
    },
    {
     "data": {
      "text/plain": [
       "39.43354749885268"
      ]
     },
     "execution_count": 114,
     "metadata": {},
     "output_type": "execute_result"
    }
   ],
   "source": [
    "average_age_men=df[df[\"sex\"]==\"Male\"][\"age\"].mean()\n",
    "print('average age of men:')\n",
    "average_age_men"
   ]
  },
  {
   "cell_type": "markdown",
   "id": "881883b9-cdb6-42a0-9c23-4dcf55fc1844",
   "metadata": {},
   "source": [
    "Q.3. What is the percentage of people who have a Bachelor's degree?"
   ]
  },
  {
   "cell_type": "code",
   "execution_count": 115,
   "id": "05f5bc61-9d39-4bff-b367-e5b71833d8a7",
   "metadata": {},
   "outputs": [
    {
     "data": {
      "text/plain": [
       "5355"
      ]
     },
     "execution_count": 115,
     "metadata": {},
     "output_type": "execute_result"
    }
   ],
   "source": [
    "No_of_bachelors = len(df[df[\"education\"]==\"Bachelors\"])\n",
    "No_of_bachelors"
   ]
  },
  {
   "cell_type": "code",
   "execution_count": 116,
   "id": "a658db74-b875-4ef7-beb6-7d45117d0865",
   "metadata": {},
   "outputs": [
    {
     "data": {
      "text/plain": [
       "32561"
      ]
     },
     "execution_count": 116,
     "metadata": {},
     "output_type": "execute_result"
    }
   ],
   "source": [
    "No_of_candidate = len(df[\"education\"])\n",
    "No_of_candidate"
   ]
  },
  {
   "cell_type": "code",
   "execution_count": 117,
   "id": "416283bb-53aa-4936-9e55-4bf006885c76",
   "metadata": {},
   "outputs": [
    {
     "name": "stdout",
     "output_type": "stream",
     "text": [
      "Percentage of people who have a Bachelor's degree:\n",
      "16.44605509658794\n"
     ]
    }
   ],
   "source": [
    "bachelors_percentage = (No_of_bachelors/No_of_candidate)*100\n",
    "print(\"Percentage of people who have a Bachelor's degree:\")\n",
    "print(bachelors_percentage)"
   ]
  },
  {
   "cell_type": "markdown",
   "id": "8dc68440-ac02-4558-b196-d72177174ebd",
   "metadata": {},
   "source": [
    "Q.4. What percentage of people with advanced education (Bachelors, Masters, or Doctorate) make more than 50K?"
   ]
  },
  {
   "cell_type": "code",
   "execution_count": 157,
   "id": "c966ab24-b709-4199-8361-37786e6ea056",
   "metadata": {},
   "outputs": [],
   "source": [
    "Edu_Bach = df[df[\"education\"]==\"Bachelors\"]\n",
    "Edu_Mast = df[df[\"education\"]==\"Masters\"]\n",
    "Edu_Doct = df[df[\"education\"]==\"Doctorate\"]\n",
    "Total_Adv_Edu = len(Edu_Bach)+len(Edu_Mast)+len(Edu_Doct)"
   ]
  },
  {
   "cell_type": "code",
   "execution_count": 239,
   "id": "8dae9a1e-fbcb-4e93-9aed-5cbcd71d16aa",
   "metadata": {},
   "outputs": [],
   "source": [
    "No_Edu_Bach = len(Edu_Bach[Edu_Bach[\"salary\"]==\">50K\"])\n",
    "No_Edu_Mast = len(Edu_Mast[Edu_Mast[\"salary\"]==\">50K\"])\n",
    "No_Edu_Doct = len(Edu_Doct[Edu_Doct[\"salary\"]==\">50K\"])"
   ]
  },
  {
   "cell_type": "code",
   "execution_count": 238,
   "id": "7fd62afe-36f3-49db-98bc-2051b456dee8",
   "metadata": {},
   "outputs": [
    {
     "name": "stdout",
     "output_type": "stream",
     "text": [
      "Percentage of people with advanced education (Bachelors, Masters, or Doctorate) make more than 50K:\n"
     ]
    },
    {
     "data": {
      "text/plain": [
       "46.535843011613935"
      ]
     },
     "execution_count": 238,
     "metadata": {},
     "output_type": "execute_result"
    }
   ],
   "source": [
    "Rich_Adv_edu = No_Edu_Bach+No_Edu_Mast+No_Edu_Doct\n",
    "Prcntg_Rich_Adv_Edu = (Rich_Adv_edu/Total_Adv_Edu)*100\n",
    "print(\"Percentage of people with advanced education (Bachelors, Masters, or Doctorate) make more than 50K:\")\n",
    "Prcntg_Rich_Adv_Edu"
   ]
  },
  {
   "cell_type": "markdown",
   "id": "391a771e-9b25-4acf-a3a9-5cc581a29ea5",
   "metadata": {},
   "source": [
    "Q.5. What percentage of people without advanced education make more than 50K?"
   ]
  },
  {
   "cell_type": "code",
   "execution_count": 186,
   "id": "44f1ede2-85d6-4bda-9741-88b52eb4e982",
   "metadata": {},
   "outputs": [],
   "source": [
    "Not_Adv_Edu = df[df[\"education\"]!=\"Bachelors\"]\n",
    "Not_Adv_Edu = Not_Adv_Edu[Not_Adv_Edu[\"education\"]!=\"Masters\"]\n",
    "Not_Adv_Edu = Not_Adv_Edu[Not_Adv_Edu[\"education\"]!=\"Doctorate\"]"
   ]
  },
  {
   "cell_type": "code",
   "execution_count": 187,
   "id": "242f019c-8719-45c0-8997-0a6d2274a78c",
   "metadata": {},
   "outputs": [],
   "source": [
    "Rich_Not_Adv_Edu = Not_Adv_Edu[Not_Adv_Edu[\"salary\"]==\">50K\"]"
   ]
  },
  {
   "cell_type": "code",
   "execution_count": 188,
   "id": "a02e91e1-5a78-409d-a8bd-c1c421495d76",
   "metadata": {},
   "outputs": [
    {
     "name": "stdout",
     "output_type": "stream",
     "text": [
      "Percentage of people without advanced education make more than 50K:\n"
     ]
    },
    {
     "data": {
      "text/plain": [
       "17.3713601914639"
      ]
     },
     "execution_count": 188,
     "metadata": {},
     "output_type": "execute_result"
    }
   ],
   "source": [
    "Prcntg_Rich_Not_Adv_Edu = (len(Rich_Not_Adv_Edu)/len(Not_Adv_Edu))*100\n",
    "print(\"Percentage of people without advanced education make more than 50K:\")\n",
    "Prcntg_Rich_Not_Adv_Edu "
   ]
  },
  {
   "cell_type": "markdown",
   "id": "6f50fca9-5458-4c51-82eb-ca7dd7748ff5",
   "metadata": {},
   "source": [
    "Q.6. What is the minimum number of hours a person works per week?"
   ]
  },
  {
   "cell_type": "code",
   "execution_count": 192,
   "id": "ac92956d-8022-4b2b-9367-70efdd8fb581",
   "metadata": {},
   "outputs": [
    {
     "name": "stdout",
     "output_type": "stream",
     "text": [
      "Minimum number of hours a person works per week:\n"
     ]
    },
    {
     "data": {
      "text/plain": [
       "1"
      ]
     },
     "execution_count": 192,
     "metadata": {},
     "output_type": "execute_result"
    }
   ],
   "source": [
    "print(\"Minimum number of hours a person works per week:\")\n",
    "df[\"hours-per-week\"].min()"
   ]
  },
  {
   "cell_type": "markdown",
   "id": "b043f798-d05e-473c-af82-110e9925d21e",
   "metadata": {},
   "source": [
    "Q.7. What percentage of the people who work the minimum number of hours per week have a salary of more than 50K?"
   ]
  },
  {
   "cell_type": "code",
   "execution_count": 205,
   "id": "8bcd4995-a828-45ee-9474-7598cb1964fe",
   "metadata": {},
   "outputs": [
    {
     "name": "stdout",
     "output_type": "stream",
     "text": [
      "Percentage of the people who work the minimum number of hours per week have a salary of more than 50K:\n"
     ]
    },
    {
     "data": {
      "text/plain": [
       "10.0"
      ]
     },
     "execution_count": 205,
     "metadata": {},
     "output_type": "execute_result"
    }
   ],
   "source": [
    "people = df[df[\"hours-per-week\"]==1]\n",
    "rich_people = people[people[\"salary\"]==\">50K\"]\n",
    "Prcntg_rich_people = (len(rich_people)/len(people))*100\n",
    "print(\"Percentage of the people who work the minimum number of hours per week have a salary of more than 50K:\")\n",
    "Prcntg_rich_people"
   ]
  },
  {
   "cell_type": "markdown",
   "id": "f7ef749a-f183-497a-a391-87b655561e15",
   "metadata": {},
   "source": [
    "Q.8. What country has the highest percentage of people that earn >50K and what is that percentage?"
   ]
  },
  {
   "cell_type": "code",
   "execution_count": 246,
   "id": "90cd82bd-08fe-4346-bf43-7db036dfc0c3",
   "metadata": {},
   "outputs": [
    {
     "name": "stdout",
     "output_type": "stream",
     "text": [
      "The country that has the highest percentage of people that earn >50K:\n"
     ]
    },
    {
     "data": {
      "text/plain": [
       "'United-States'"
      ]
     },
     "execution_count": 246,
     "metadata": {},
     "output_type": "execute_result"
    }
   ],
   "source": [
    "df1 = df[df[\"salary\"]==\">50K\"]\n",
    "print(\"The country that has the highest percentage of people that earn >50K:\")\n",
    "df1[\"native-country\"].value_counts().idxmax()\n"
   ]
  },
  {
   "cell_type": "code",
   "execution_count": 247,
   "id": "40aa2753-fed5-4c3b-ae66-39b351048238",
   "metadata": {},
   "outputs": [],
   "source": [
    "Number = df1[\"native-country\"].value_counts().max()"
   ]
  },
  {
   "cell_type": "code",
   "execution_count": 248,
   "id": "bb24a049-6cce-4313-9830-049028ee0db0",
   "metadata": {},
   "outputs": [
    {
     "data": {
      "text/plain": [
       "7171"
      ]
     },
     "execution_count": 248,
     "metadata": {},
     "output_type": "execute_result"
    }
   ],
   "source": [
    "Number"
   ]
  },
  {
   "cell_type": "code",
   "execution_count": 249,
   "id": "c1e7ad3c-bfef-432c-8292-a05b69c58bda",
   "metadata": {},
   "outputs": [
    {
     "data": {
      "text/plain": [
       "32561"
      ]
     },
     "execution_count": 249,
     "metadata": {},
     "output_type": "execute_result"
    }
   ],
   "source": [
    "len(df[\"salary\"])"
   ]
  },
  {
   "cell_type": "code",
   "execution_count": 250,
   "id": "1cb2dfc3-85f6-4608-b223-6f1f38783a49",
   "metadata": {},
   "outputs": [
    {
     "data": {
      "text/plain": [
       "7841"
      ]
     },
     "execution_count": 250,
     "metadata": {},
     "output_type": "execute_result"
    }
   ],
   "source": [
    "len(df[df[\"salary\"]==\">50K\"])"
   ]
  },
  {
   "cell_type": "code",
   "execution_count": 251,
   "id": "59fc45c5-6790-47e8-94e3-c89c5ae1f293",
   "metadata": {},
   "outputs": [
    {
     "name": "stdout",
     "output_type": "stream",
     "text": [
      "The % of people who earns more than 50K is:\n"
     ]
    },
    {
     "data": {
      "text/plain": [
       "91.45517153424308"
      ]
     },
     "execution_count": 251,
     "metadata": {},
     "output_type": "execute_result"
    }
   ],
   "source": [
    "print(\"The % of people who earns more than 50K is:\")\n",
    "(Number/len(df[df[\"salary\"]==\">50K\"]))*100"
   ]
  },
  {
   "cell_type": "markdown",
   "id": "fe1c46a7-321b-4c3e-894b-f90baae97ec4",
   "metadata": {},
   "source": [
    "Q.9. Identify the most popular occupation for those who earn >50K in India."
   ]
  },
  {
   "cell_type": "code",
   "execution_count": 260,
   "id": "59c1b3c5-79d3-4cd9-bd16-a724e3e2c5d8",
   "metadata": {},
   "outputs": [
    {
     "name": "stdout",
     "output_type": "stream",
     "text": [
      "The most popular occupation for those who earn >50K in India:\n"
     ]
    },
    {
     "data": {
      "text/plain": [
       "'Prof-specialty'"
      ]
     },
     "execution_count": 260,
     "metadata": {},
     "output_type": "execute_result"
    }
   ],
   "source": [
    "df2 = df[df[\"native-country\"]==\"India\"]\n",
    "df2 = df2[df2[\"salary\"]==\">50K\"]\n",
    "print(\"The most popular occupation for those who earn >50K in India:\")\n",
    "df2[\"occupation\"].value_counts().idxmax()"
   ]
  },
  {
   "cell_type": "code",
   "execution_count": null,
   "id": "14e80459-26b0-47a3-a3b5-6d86ad6c59f6",
   "metadata": {},
   "outputs": [],
   "source": []
  }
 ],
 "metadata": {
  "kernelspec": {
   "display_name": "Python 3 (ipykernel)",
   "language": "python",
   "name": "python3"
  },
  "language_info": {
   "codemirror_mode": {
    "name": "ipython",
    "version": 3
   },
   "file_extension": ".py",
   "mimetype": "text/x-python",
   "name": "python",
   "nbconvert_exporter": "python",
   "pygments_lexer": "ipython3",
   "version": "3.9.12"
  }
 },
 "nbformat": 4,
 "nbformat_minor": 5
}
